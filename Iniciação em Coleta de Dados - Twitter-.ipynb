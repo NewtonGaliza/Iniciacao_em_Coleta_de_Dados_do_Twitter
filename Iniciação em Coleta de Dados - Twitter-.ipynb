{
 "cells": [
  {
   "cell_type": "markdown",
   "metadata": {},
   "source": [
    "<div align=\"center\">\n",
    "    <img src=\"http://www.sapnaedu.in/wp-content/uploads/2016/06/twython1.jpg\" width=250 height=150>\n",
    "    <h1>Iniciação em coleta de Dados do Twitter</h1>\n",
    "    <h2>por: Newton Galiza</h2>\n",
    "</div>"
   ]
  },
  {
   "cell_type": "markdown",
   "metadata": {},
   "source": [
    "<div align=\"center\">\n",
    "    <h2>O que é o twitter</h2>\n",
    "    <img src=\"https://marketingland.com/wp-content/ml-loads/2014/08/twitter-mobile-app-ss-1920.jpg\" width=400 height=200>\n",
    "    <p>É uma rede social que permite a troca de mensagens entre usuários</p>\n",
    "    <p>Lançada em 2006 por Jack Dorsey, Evan Williams, Biz Stone e Noah Glass</p>\n",
    "    <p>As mensagens transmitidas são chamadas tweet, e possuem um limite de 140 caracteres</p>\n",
    "    <p>Nos primeiros três meses de 2017, 328 milhões de pessoas usaram a rede social, pelo menos um vez por mês</p>\n",
    "</div>"
   ]
  },
  {
   "cell_type": "markdown",
   "metadata": {
    "slideshow": {
     "slide_type": "slide"
    }
   },
   "source": [
    "<div align=\"center\">\n",
    "    <h2>Criando nossa aplicação</h2>\n",
    "    <p>Primeiramente, precisamos criar nossa aplicação, através do site https://apps.twitter.com, Após informarmos o nome e descrição da nossa aplicação, recebemos uma consumer key e uma consumer secret, nesta seção também pedimos nosso access token e access token secret</p>\n",
    "    <img src=\"https://community.embarcadero.com/uploads/397/cdata/TwitterApp.png\" width=500>\n",
    "</div>    "
   ]
  },
  {
   "cell_type": "markdown",
   "metadata": {},
   "source": [
    "<div align=\"center\">\n",
    "    <h2>Preparando o ambiente</h2>\n",
    "    <p>Precisamos instalar o módulo Tweepy<br/>\n",
    "        pip install tweepy</p>\n",
    "    <p>https://github.com/tweepy</p>"
   ]
  },
  {
   "cell_type": "markdown",
   "metadata": {},
   "source": [
    "<div align=\"center\">\n",
    "    <h2>Hora de Codificar</h2>\n",
    "    <img src=\"http://meromehandel.se/assets/img/LetsCodeLogo.png\" width=500 height=250>\n",
    "    <p>Seguida por algumas explicações</p>\n",
    "</div>   "
   ]
  },
  {
   "cell_type": "markdown",
   "metadata": {},
   "source": [
    "<div align=\"center\">\n",
    "    <h2> E agora vamos as explicações</h2>\n",
    "    <img src=\"http://www.professionalsofttech.com/wp-content/uploads/2014/04/twitter-api.png\">\n",
    "    <p>A API do Twitter nos estrega um objeto complexo, disponível através do atributo _json. O status, é uma instânci da classe Status(), usada para encapsular os dados. Para iterarmos sobre sobre os diferentes tipos de objetos, o Tweepy oferece um Cursor.</p>\n",
    "    <h2>Streaming</h2>\n",
    "    <p>Podemos manter a conexão aberta, e assim coletar tweets em tempo real. Precisamos extender de StreamListener(),  para customizar o recebimento dos dados. No exemplo vamos coletar os tweets com a #PUGPB. Cuidado, com o alcance da hashtag!​</p>\n",
    "</div>"
   ]
  },
  {
   "cell_type": "markdown",
   "metadata": {},
   "source": [
    "<div align=\"center\">\n",
    "    <h2>Perguntas</h2>\n",
    "    <img src=\"http://lenkaspace.net/images/blog/codingInPython/python.png\" width=200 height=200>\n",
    "</div>"
   ]
  },
  {
   "cell_type": "markdown",
   "metadata": {},
   "source": [
    "<div align=\"center\">\n",
    "    <h2>Meus Contatos</h2>\n",
    "    <img src=\"https://www.howitworksdaily.com/wp-content/uploads/2016/03/email-logo.jpg\" width=120 height=50>newtonjgaliza@gmail.com\n",
    "    <img src=\"http://geoawesomeness.com/wp-content/uploads/2017/10/telegram.jpg\" width=180 height=50>@NewtonGaliza\n",
    "    <img src=\"https://www.monolitonimbus.com.br/wp-content/uploads/2017/12/github.png\" width=120 height=50>https://github.com/newtongaliza\n",
    "    "
   ]
  },
  {
   "cell_type": "code",
   "execution_count": null,
   "metadata": {},
   "outputs": [],
   "source": []
  }
 ],
 "metadata": {
  "kernelspec": {
   "display_name": "Python 3",
   "language": "python",
   "name": "python3"
  },
  "language_info": {
   "codemirror_mode": {
    "name": "ipython",
    "version": 3
   },
   "file_extension": ".py",
   "mimetype": "text/x-python",
   "name": "python",
   "nbconvert_exporter": "python",
   "pygments_lexer": "ipython3",
   "version": "3.4.3"
  }
 },
 "nbformat": 4,
 "nbformat_minor": 2
}
